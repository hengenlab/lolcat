{
 "cells": [
  {
   "cell_type": "markdown",
   "metadata": {},
   "source": [
    "### Imports and initialization"
   ]
  },
  {
   "cell_type": "code",
   "execution_count": 1,
   "metadata": {},
   "outputs": [],
   "source": [
    "from torch.utils.data import DataLoader\n",
    "import torch\n",
    "import torch.nn.functional as F\n",
    "import torch.optim as optim\n",
    "from torch.utils.data import TensorDataset\n",
    "from torch.utils.data.sampler import WeightedRandomSampler\n",
    "\n",
    "from sklearn.preprocessing import StandardScaler, MinMaxScaler\n",
    "from sklearn.metrics import confusion_matrix,f1_score\n",
    "import numpy as np\n",
    "import pandas as pd\n",
    "import pickle\n",
    "\n",
    "from tqdm import tqdm\n",
    "\n",
    "import matplotlib.pyplot as plt"
   ]
  },
  {
   "cell_type": "code",
   "execution_count": 2,
   "metadata": {
    "collapsed": false,
    "jupyter": {
     "outputs_hidden": false
    },
    "pycharm": {
     "name": "#%%\n"
    }
   },
   "outputs": [],
   "source": [
    "import sys\n",
    "import os\n",
    "sys.path.append('../')\n",
    "\n",
    "from src import Dataset\n",
    "from src.network import MLP"
   ]
  },
  {
   "cell_type": "code",
   "execution_count": 3,
   "metadata": {
    "collapsed": false,
    "jupyter": {
     "outputs_hidden": false
    },
    "pycharm": {
     "name": "#%%\n"
    }
   },
   "outputs": [],
   "source": [
    "os.environ[\"CUDA_VISIBLE_DEVICES\"] =\"7\" #specify gpu to use"
   ]
  },
  {
   "cell_type": "markdown",
   "metadata": {
    "pycharm": {
     "name": "#%% md\n"
    }
   },
   "source": [
    "### Load dataset"
   ]
  },
  {
   "cell_type": "code",
   "execution_count": 32,
   "metadata": {
    "pycharm": {
     "name": "#%%\n"
    }
   },
   "outputs": [
    {
     "name": "stdout",
     "output_type": "stream",
     "text": [
      "Found processed pickle. Loading from '../data/processed/v1_dataset.pkl'.\n"
     ]
    }
   ],
   "source": [
    "data_root = '../data/'\n",
    "dataset = Dataset(data_root, force_process=False) #specify data location\n",
    "\n",
    "#each sample must have atleast 30 spikes\n",
    "dataset.drop_dead_cells(cutoff=30)\n",
    "\n",
    "# cell classes identified by Louis as not being too quiet\n",
    "keepers = ['e5Rbp4', 'e23Cux2', 'i6Pvalb', 'e4Scnn1a', 'i23Pvalb', 'i23Htr3a',\n",
    " 'e4Rorb', 'e4other', 'i5Pvalb', 'i4Pvalb', 'i23Sst', 'i4Sst', 'e4Nr5a1',\n",
    " 'i1Htr3a', 'e5noRbp4', 'i6Sst', 'e6Ntsr1']\n",
    "dataset.drop_other_classes(classes_to_keep=keepers)"
   ]
  },
  {
   "cell_type": "markdown",
   "metadata": {},
   "source": [
    "### Split dataset"
   ]
  },
  {
   "cell_type": "code",
   "execution_count": 33,
   "metadata": {
    "collapsed": false,
    "jupyter": {
     "outputs_hidden": false
    },
    "pycharm": {
     "name": "#%%\n"
    }
   },
   "outputs": [],
   "source": [
    "random_seed = 1\n",
    "test_size, val_size = 0.2, 0.2\n",
    "\n",
    "dataset.split_cell_train_val_test(test_size=test_size, val_size=val_size, seed=random_seed)\n",
    "X_train, y_train = dataset.get_set('train')\n",
    "X_val, y_val = dataset.get_set('val')\n",
    "X_test, y_test = dataset.get_set('test')"
   ]
  },
  {
   "cell_type": "markdown",
   "metadata": {},
   "source": [
    "### Compute ISI distribution"
   ]
  },
  {
   "cell_type": "code",
   "execution_count": 34,
   "metadata": {},
   "outputs": [],
   "source": [
    "def compute_hist(X, bins, a_min=-2.5, a_max=0.5):\n",
    "    X_isi = np.zeros((X.shape[0], bins))\n",
    "    bins = np.linspace(a_min, a_max, bins+1)\n",
    "    for i, x in enumerate(X):\n",
    "        # compute isi\n",
    "        x = np.diff(x)\n",
    "        # compute histogram\n",
    "        x = np.log10(x)\n",
    "        # x = np.clip(x, a_min=a_min, a_max=a_max)\n",
    "        X_isi[i] = np.histogram(x, bins)[0].astype(int)\n",
    "    return X_isi"
   ]
  },
  {
   "cell_type": "code",
   "execution_count": 35,
   "metadata": {},
   "outputs": [],
   "source": [
    "num_bins = 128"
   ]
  },
  {
   "cell_type": "code",
   "execution_count": 36,
   "metadata": {},
   "outputs": [],
   "source": [
    "X_train = compute_hist(X_train, bins=num_bins)\n",
    "X_val = compute_hist(X_val, bins=num_bins)\n",
    "X_test = compute_hist(X_test, bins=num_bins)"
   ]
  },
  {
   "cell_type": "code",
   "execution_count": 37,
   "metadata": {},
   "outputs": [
    {
     "name": "stdout",
     "output_type": "stream",
     "text": [
      "(24603, 100, 128)\n"
     ]
    }
   ],
   "source": [
    "# reshape to (num_cells, num_trials, num_isi_bins)\n",
    "X_train = X_train.reshape(100, -1, num_bins).transpose(1,0,2)\n",
    "X_val = X_val.reshape(100, -1, num_bins).transpose(1,0,2)\n",
    "X_test = X_test.reshape(100, -1, num_bins).transpose(1,0,2)\n",
    "\n",
    "print(X_train.shape)"
   ]
  },
  {
   "cell_type": "code",
   "execution_count": 38,
   "metadata": {},
   "outputs": [],
   "source": [
    "y_train = y_train.reshape(100, -1).T[:, 0]\n",
    "y_val = y_val.reshape(100, -1).T[:, 0]\n",
    "y_test = y_test.reshape(100, -1).T[:, 0]"
   ]
  },
  {
   "cell_type": "markdown",
   "metadata": {},
   "source": [
    "### Torch Dataset"
   ]
  },
  {
   "cell_type": "code",
   "execution_count": 39,
   "metadata": {
    "collapsed": false,
    "jupyter": {
     "outputs_hidden": false
    },
    "pycharm": {
     "name": "#%%\n"
    }
   },
   "outputs": [],
   "source": [
    "device = torch.device(\"cuda\" if torch.cuda.is_available() else \"cpu\")\n",
    "\n",
    "X_train, y_train = torch.FloatTensor(X_train).to(device), torch.LongTensor(y_train).to(device)\n",
    "train_dataset = TensorDataset(X_train, y_train)\n",
    "\n",
    "X_test, y_test = torch.FloatTensor(X_test).to(device), torch.LongTensor(y_test).to(device)\n",
    "test_dataset = TensorDataset(X_test, y_test)\n",
    "\n",
    "X_val, y_val = torch.FloatTensor(X_val).to(device), torch.LongTensor(y_val).to(device)\n",
    "val_dataset = TensorDataset(X_val, y_val)"
   ]
  },
  {
   "cell_type": "markdown",
   "metadata": {},
   "source": [
    "### Weighted sampler"
   ]
  },
  {
   "cell_type": "code",
   "execution_count": 40,
   "metadata": {},
   "outputs": [],
   "source": [
    "_, class_sample_count = torch.unique(y_train, return_counts=True)\n",
    "increase_factor = torch.floor(torch.pow(1.5, torch.floor(9 - torch.log(class_sample_count))))\n",
    "indices = []\n",
    "for cell_type, factor in enumerate(increase_factor.cpu()):\n",
    "    if cell_type == 16:\n",
    "        continue\n",
    "    cell_indices = torch.where(y_train==cell_type)[0]\n",
    "    for _ in range(int(factor)):\n",
    "        indices.append(cell_indices)\n",
    "        \n",
    "indices = torch.cat(indices)\n",
    "sampler = SubsetRandomSampler(indices)"
   ]
  },
  {
   "cell_type": "code",
   "execution_count": 41,
   "metadata": {},
   "outputs": [],
   "source": [
    "train_loader = DataLoader(train_dataset, batch_size=128, sampler=sampler, drop_last=True)\n",
    "train_eval_loader = DataLoader(train_dataset, batch_size=512, shuffle=False)\n",
    "test_loader = DataLoader(test_dataset, batch_size=512, shuffle=False)\n",
    "val_loader = DataLoader(val_dataset, batch_size=512, shuffle=False)"
   ]
  },
  {
   "cell_type": "markdown",
   "metadata": {},
   "source": [
    "### Model"
   ]
  },
  {
   "cell_type": "code",
   "execution_count": 65,
   "metadata": {},
   "outputs": [],
   "source": [
    "import torch.nn as nn\n",
    "\n",
    "import torch.nn as nn\n",
    "\n",
    "\n",
    "class EncoderAggr(nn.Module):\n",
    "    def __init__(self, encoder, classifier, dropout_p=0.):\n",
    "        super().__init__()\n",
    "        self.encoder = encoder\n",
    "        self.classifier = classifier\n",
    "        \n",
    "        self.dropout_p = dropout_p\n",
    "        \n",
    "    def dropout(self, x):\n",
    "        if self.training and not self.dropout_p == 0:\n",
    "            dropout_mask = torch.empty((x.size(0), x.size(1), 1), dtype=torch.float32, device=x.device).uniform_(0, 1) > self.dropout_p\n",
    "            dropout_ratio = dropout_mask.sum(dim=1) / dropout_mask.size(1)\n",
    "\n",
    "            x = x * dropout_mask / dropout_ratio.view(x.size(0), 1, -1)\n",
    "        return x\n",
    "        \n",
    "    def forward(self, x):\n",
    "        batch_size = x.size(0)\n",
    "        x = x.view(-1, num_bins)\n",
    "        emb = self.encoder(x)\n",
    "        \n",
    "        # aggregate feats\n",
    "        emb = emb.view(batch_size, 100, -1)\n",
    "        \n",
    "        # feature dropout\n",
    "        emb = self.dropout(emb)\n",
    "        \n",
    "        # compute global embedding\n",
    "        global_emb = torch.mean(emb, dim=1)\n",
    "        \n",
    "        out = self.classifier(global_emb)\n",
    "        \n",
    "        return nn.functional.log_softmax(out, dim=1)\n",
    "\n",
    "class MLPAggr(nn.Module):\n",
    "    def __init__(self, feat_dropout_p=0.2, net_dropout_p=0.2):\n",
    "        super().__init__()\n",
    "        encoder = nn.Sequential(nn.Linear(128, 128), nn.ReLU(), nn.Dropout(net_dropout_p), \n",
    "                                #nn.Linear(128, 128), nn.ReLU(), nn.Dropout(net_dropout_p), \n",
    "                                #nn.Linear(128, 128), nn.ReLU(), nn.Dropout(net_dropout_p),\n",
    "                                nn.Linear(128, 64), nn.ReLU(), nn.Dropout(net_dropout_p), \n",
    "                                nn.Linear(64, 64), nn.ReLU(), nn.Dropout(net_dropout_p), \n",
    "                                nn.Linear(64, 32))\n",
    "        classifier = nn.Sequential(nn.Linear(32, 32), nn.ReLU(), nn.Linear(32, 17))\n",
    "        self.model = EncoderAggr(encoder, classifier, feat_dropout_p)\n",
    "\n",
    "    def forward(self, x):\n",
    "        out = self.model(x)\n",
    "        return out"
   ]
  },
  {
   "cell_type": "code",
   "execution_count": null,
   "metadata": {},
   "outputs": [],
   "source": [
    "class topk_NLLLoss(nn.Module):\n",
    "    def __init__(self, top_k=0.7):\n",
    "        super().__init__()\n",
    "        self.loss = nn.NLLLoss(reduction='none')\n",
    "        self.top_k = top_k\n",
    "    \n",
    "    def forward(self, input, target):\n",
    "        loss = self.loss(input, target)\n",
    "\n",
    "        if self.top_k == 1:\n",
    "            return torch.mean(loss)\n",
    "        else:\n",
    "            valid_loss, idxs = torch.topk(loss, int(self.top_k * loss.size()[0]))    \n",
    "            return torch.mean(valid_loss)"
   ]
  },
  {
   "cell_type": "code",
   "execution_count": 82,
   "metadata": {},
   "outputs": [],
   "source": [
    "#RUN THE MODEL\n",
    "model = MLPAggr(feat_dropout_p=0.3, net_dropout_p=0.2).to(device)\n",
    "\n",
    "lr = 1e-3\n",
    "weight_decay = 1e-6\n",
    "optimizer = optim.AdamW(model.parameters(), lr=lr, weight_decay=weight_decay)\n",
    "criterion = topk_NLLLoss(0.7)\n",
    "scheduler = torch.optim.lr_scheduler.MultiStepLR(optimizer, milestones=[5000], gamma=0.1)"
   ]
  },
  {
   "cell_type": "code",
   "execution_count": 83,
   "metadata": {},
   "outputs": [
    {
     "data": {
      "text/plain": [
       "70353"
      ]
     },
     "execution_count": 83,
     "metadata": {},
     "output_type": "execute_result"
    }
   ],
   "source": [
    "def count_parameters(model):\n",
    "    return sum(p.numel() for p in model.parameters() if p.requires_grad)\n",
    "\n",
    "count_parameters(model)"
   ]
  },
  {
   "cell_type": "markdown",
   "metadata": {},
   "source": [
    "### Run the model"
   ]
  },
  {
   "cell_type": "code",
   "execution_count": 85,
   "metadata": {
    "pycharm": {
     "name": "#%%\n"
    }
   },
   "outputs": [],
   "source": [
    "def train(model, device, train_loader, optimizer):\n",
    "    model.train()\n",
    "    avg_loss = 0.\n",
    "    step = 0\n",
    "    for data, target in train_loader:\n",
    "        optimizer.zero_grad()\n",
    "        output = model(data)\n",
    "        loss = criterion(output, target)\n",
    "        loss.backward()\n",
    "        optimizer.step()\n",
    "        \n",
    "        avg_loss += loss.item()\n",
    "        step += 1\n",
    "        \n",
    "    print('loss %.3f (%d)' %(avg_loss/step, step))\n",
    "\n",
    "\n",
    "def test(model, device, loader):\n",
    "    model.eval()\n",
    "    test_loss = 0\n",
    "    correct = 0\n",
    "    total = 0\n",
    "    preds = []\n",
    "    corrects = []\n",
    "    with torch.no_grad():\n",
    "        for data, target in loader:\n",
    "            output = model(data)\n",
    "            test_loss += F.nll_loss(output, target, reduction='sum').item()  # sum up batch loss\n",
    "            pred = output.argmax(dim=1, keepdim=True)  # get the index of the max log-probability\n",
    "            pred_ = np.ndarray.flatten(pred.cpu().numpy())\n",
    "            targ_ = target.cpu().numpy()\n",
    "            preds.append(pred_)\n",
    "            corrects.append(targ_)\n",
    "            correct += pred.eq(target.view_as(pred)).sum().item()\n",
    "            total += len(target)\n",
    "    corrects = np.hstack(corrects)\n",
    "    preds = np.hstack(preds)\n",
    "    \n",
    "    bad_class = corrects != 16\n",
    "    corrects = corrects[bad_class]\n",
    "    preds = preds[bad_class]\n",
    "    \n",
    "    acc = accuracy_score(corrects, preds)\n",
    "    f1score = f1_score(corrects, preds, average='macro')\n",
    "    cm = confusion_matrix(corrects, preds, normalize='true')\n",
    "    return acc, f1score"
   ]
  },
  {
   "cell_type": "markdown",
   "metadata": {},
   "source": [
    "### Run Hyperparameter Grid"
   ]
  },
  {
   "cell_type": "code",
   "execution_count": null,
   "metadata": {
    "scrolled": true
   },
   "outputs": [],
   "source": [
    "epochs = 1000\n",
    "\n",
    "for epoch in range(1, epochs + 1):\n",
    "    train(model, device, train_loader, optimizer)\n",
    "    train_cm, train_acc = test(model, device, train_loader)\n",
    "    val_cm, val_acc = test(model, device, val_loader)\n",
    "    test_cm, test_acc = test(model, device, test_loader)\n",
    "    \n",
    "    print('Train: %.2f, Val: %.2f, Test: %.2f' %(train_acc, val_acc, test_acc))"
   ]
  },
  {
   "cell_type": "code",
   "execution_count": null,
   "metadata": {},
   "outputs": [],
   "source": []
  },
  {
   "cell_type": "markdown",
   "metadata": {},
   "source": [
    "# Eval"
   ]
  },
  {
   "cell_type": "code",
   "execution_count": 1,
   "metadata": {},
   "outputs": [],
   "source": [
    "def predict(model, loader):\n",
    "    model.eval()\n",
    "    preds = []\n",
    "    gts = []\n",
    "    with torch.no_grad():\n",
    "        for data, target in loader:\n",
    "            logits = model(data)\n",
    "            pred = torch.exp(logits).detach().cpu()\n",
    "            gt = target.cpu()\n",
    "            preds.append(pred)\n",
    "            gts.append(gt)\n",
    "    preds =  torch.cat(preds)\n",
    "    gts = torch.cat(gts)\n",
    "    return preds, gts"
   ]
  },
  {
   "cell_type": "code",
   "execution_count": null,
   "metadata": {},
   "outputs": [],
   "source": [
    "pred, target = predict(model, test_loader)\n",
    "pred1 = pred.argmax(dim=1, keepdim=True).squeeze()\n",
    "cm = confusion_matrix(target, pred1)"
   ]
  },
  {
   "cell_type": "code",
   "execution_count": 88,
   "metadata": {},
   "outputs": [],
   "source": [
    "import itertools\n",
    "def plot_confusion_matrix(cm, class_names=None, xlabel='Predicted label', ylabel='True label'):\n",
    "    \"\"\"\n",
    "    Returns a matplotlib figure containing the plotted confusion matrix.\n",
    "\n",
    "    Args:\n",
    "      cm (array, shape = [n, n]): a confusion matrix of integer classes\n",
    "      class_names (array, shape = [n]): String names of the integer classes\n",
    "    \"\"\"\n",
    "    figure = plt.figure(figsize=(8, 8))\n",
    "\n",
    "    plt.imshow(cm, interpolation='nearest', cmap=plt.cm.Blues)\n",
    "    if class_names == None:\n",
    "        class_names = list(range(cm.shape[0]-1))\n",
    "    tick_marks = np.arange(len(class_names))\n",
    "    plt.xticks(tick_marks, class_names, rotation=90)\n",
    "    plt.yticks(tick_marks, class_names)\n",
    "\n",
    "    # Use white text if squares are dark; otherwise black.\n",
    "    threshold = cm.max() / 2.\n",
    "    for i, j in itertools.product(range(cm.shape[0]), range(cm.shape[1])):\n",
    "        color = \"white\" if cm[i, j] > threshold else \"black\"\n",
    "        #plt.text(j, i, cm[i, j], horizontalalignment=\"center\", color=color)\n",
    "\n",
    "    plt.tight_layout()\n",
    "    plt.ylabel(ylabel)\n",
    "    plt.xlabel(xlabel)\n",
    "    return figure"
   ]
  },
  {
   "cell_type": "code",
   "execution_count": null,
   "metadata": {},
   "outputs": [],
   "source": []
  },
  {
   "cell_type": "code",
   "execution_count": 89,
   "metadata": {},
   "outputs": [
    {
     "data": {
      "image/png": "[encoded data removed]",
      "text/plain": [
       "<Figure size 576x576 with 1 Axes>"
      ]
     },
     "execution_count": 89,
     "metadata": {},
     "output_type": "execute_result"
    },
    {
     "data": {
      "image/png": "[encoded data removed]",
      "text/plain": [
       "<Figure size 576x576 with 1 Axes>"
      ]
     },
     "metadata": {
      "needs_background": "light"
     },
     "output_type": "display_data"
    }
   ],
   "source": [
    "plot_confusion_matrix(test_cm, class_names=keepers)\n",
    "plt.show()"
   ]
  },
  {
   "cell_type": "code",
   "execution_count": null,
   "metadata": {},
   "outputs": [],
   "source": []
  }
 ],
 "metadata": {
  "kernelspec": {
   "display_name": "Python 3",
   "language": "python",
   "name": "python3"
  },
  "language_info": {
   "codemirror_mode": {
    "name": "ipython",
    "version": 3
   },
   "file_extension": ".py",
   "mimetype": "text/x-python",
   "name": "python",
   "nbconvert_exporter": "python",
   "pygments_lexer": "ipython3",
   "version": "3.8.10"
  }
 },
 "nbformat": 4,
 "nbformat_minor": 4
}
