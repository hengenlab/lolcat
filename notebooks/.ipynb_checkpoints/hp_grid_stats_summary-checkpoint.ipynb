{
 "cells": [
  {
   "cell_type": "code",
   "execution_count": 9,
   "metadata": {},
   "outputs": [],
   "source": [
    "import pandas as pd\n",
    "import numpy as np\n",
    "from matplotlib import pyplot as plt\n",
    "import os\n",
    "from torch.nn import AvgPool1d\n",
    "from torch import tensor"
   ]
  },
  {
   "cell_type": "markdown",
   "metadata": {},
   "source": [
    "### Plot subset of F1-curves"
   ]
  },
  {
   "cell_type": "code",
   "execution_count": 4,
   "metadata": {},
   "outputs": [],
   "source": [
    "selection_dict = {'hp_idx':list(range(35))}"
   ]
  },
  {
   "cell_type": "code",
   "execution_count": 18,
   "metadata": {},
   "outputs": [
    {
     "data": {
      "image/png": "[encoded data removed]",
      "text/plain": [
       "<Figure size 432x288 with 1 Axes>"
      ]
     },
     "metadata": {
      "needs_background": "light"
     },
     "output_type": "display_data"
    }
   ],
   "source": [
    "hp_grid_df = pd.read_csv('hp_grid.csv')\n",
    "#do subsetting\n",
    "for col,values in selection_dict.items():\n",
    "    hp_grid_df = hp_grid_df[hp_grid_df[col].isin(values)]\n",
    "hp_idxs = hp_grid_df.hp_idx.tolist()\n",
    "for hp_idx in hp_idxs:\n",
    "    if (hp_idx > 32) & (hp_idx < 42):\n",
    "        f1_df = pd.read_csv('ISI_hp{}_f1s.csv'.format(str(hp_idx)))\n",
    "        plt.plot(range(len(f1_df)),f1_df.train_acc,label=hp_idx)\n",
    "        plt.legend()"
   ]
  },
  {
   "cell_type": "code",
   "execution_count": null,
   "metadata": {},
   "outputs": [],
   "source": [
    "#Note, best are 3 and 4 (800 bins) "
   ]
  },
  {
   "cell_type": "code",
   "execution_count": 3,
   "metadata": {},
   "outputs": [],
   "source": []
  },
  {
   "cell_type": "code",
   "execution_count": 15,
   "metadata": {},
   "outputs": [],
   "source": [
    "def add_random_noise(x, sigma=0.1):\n",
    "    noisy_x = []\n",
    "    for hist in x:\n",
    "        hist = list(hist)\n",
    "        noisy_hist = np.asarray([xi*np.random.normal(1,sigma) for xi in hist])\n",
    "        noisy_x.append(noisy_hist)\n",
    "    return noisy_x\n",
    "\n",
    "def moving_average(x, kernel_width=3,padding=1):\n",
    "    averaged_x = []\n",
    "    m = AvgPool1d(kernel_width,1,padding,count_include_pad=False)\n",
    "    for hist in x:\n",
    "        hist = list(hist)\n",
    "        averaged_hist = m(tensor([[hist]])).numpy()[0,0,:]\n",
    "        averaged_x.append(averaged_hist)\n",
    "    return averaged_x\n",
    "        \n",
    "    "
   ]
  },
  {
   "cell_type": "code",
   "execution_count": 16,
   "metadata": {},
   "outputs": [
    {
     "name": "stdout",
     "output_type": "stream",
     "text": [
      "[0.686, 0.494, 0.831, 0.903, 0.149, 0.195, 0.027, 0.952, 0.207, 0.738] [0.59       0.67033333 0.74266667 0.62766667 0.41566667 0.12366667\n",
      " 0.39133333 0.39533333 0.63233333 0.4725    ]\n",
      "[0.533, 0.624, 0.709, 0.165, 0.283, 0.114, 0.672, 0.146, 0.786, 0.785] [0.5785     0.622      0.49933333 0.38566667 0.18733333 0.35633333\n",
      " 0.31066667 0.53466667 0.57233333 0.7855    ]\n",
      "[0.189, 0.461, 0.817, 0.456, 0.197, 0.825, 0.631, 0.18, 0.376, 0.508] [0.325      0.489      0.578      0.49       0.49266667 0.551\n",
      " 0.54533333 0.39566667 0.35466667 0.442     ]\n",
      "[0.731, 0.286, 0.706, 0.126, 0.962, 0.654, 0.235, 0.697, 0.913, 0.001] [0.5085     0.57433333 0.37266667 0.598      0.58066667 0.617\n",
      " 0.52866667 0.615      0.537      0.457     ]\n",
      "[0.646, 0.144, 0.133, 0.165, 0.947, 0.948, 0.445, 0.633, 0.489, 0.815] [0.395      0.30766667 0.14733333 0.415      0.68666667 0.78\n",
      " 0.67533333 0.52233333 0.64566667 0.652     ]\n",
      "[0.042, 0.869, 0.875, 0.765, 0.958, 0.865, 0.82, 0.312, 0.629, 0.562] [0.4555     0.59533333 0.83633333 0.866      0.86266667 0.881\n",
      " 0.66566667 0.587      0.501      0.5955    ]\n",
      "[0.71, 0.582, 0.136, 0.298, 0.018, 0.193, 0.969, 0.29, 0.28, 0.831] [0.646      0.476      0.33866667 0.15066667 0.16966667 0.39333333\n",
      " 0.484      0.513      0.467      0.5555    ]\n",
      "[0.877, 0.061, 0.617, 0.083, 0.895, 0.953, 0.485, 0.969, 0.638, 0.619] [0.469      0.51833333 0.25366667 0.53166667 0.64366667 0.77766667\n",
      " 0.80233333 0.69733333 0.742      0.6285    ]\n",
      "[0.095, 0.047, 0.18, 0.397, 0.017, 0.724, 0.454, 0.918, 0.485, 0.095] [0.071      0.10733333 0.208      0.198      0.37933333 0.39833333\n",
      " 0.69866667 0.619      0.49933333 0.29      ]\n",
      "[0.502, 0.478, 0.474, 0.975, 0.31, 0.69, 0.926, 0.505, 0.917, 0.075] [0.49       0.48466667 0.64233333 0.58633333 0.65833333 0.642\n",
      " 0.707      0.78266667 0.499      0.496     ]\n"
     ]
    }
   ],
   "source": [
    "x = [np.asarray([(np.random.randint(0,1000)/1000) for val in range(10)]) for xi in range(10)]\n",
    "#add_random_noise(x)\n",
    "moving_average(x)"
   ]
  },
  {
   "cell_type": "code",
   "execution_count": null,
   "metadata": {},
   "outputs": [],
   "source": []
  }
 ],
 "metadata": {
  "kernelspec": {
   "display_name": "Python 3",
   "language": "python",
   "name": "python3"
  },
  "language_info": {
   "codemirror_mode": {
    "name": "ipython",
    "version": 3
   },
   "file_extension": ".py",
   "mimetype": "text/x-python",
   "name": "python",
   "nbconvert_exporter": "python",
   "pygments_lexer": "ipython3",
   "version": "3.8.5"
  }
 },
 "nbformat": 4,
 "nbformat_minor": 4
}
