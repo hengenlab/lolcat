{
 "cells": [
  {
   "cell_type": "code",
   "execution_count": 1,
   "metadata": {},
   "outputs": [],
   "source": [
    "import pandas as pd\n",
    "from os import listdir\n",
    "import numpy as np"
   ]
  },
  {
   "cell_type": "code",
   "execution_count": 18,
   "metadata": {},
   "outputs": [
    {
     "name": "stdout",
     "output_type": "stream",
     "text": [
      "    hp_idx            k distribution  cell_split_seed  bin_size  \\\n",
      "0        0  17celltypes          ISI             1234       0.2   \n",
      "1        1  17celltypes          ISI             1234       0.2   \n",
      "2        2  17celltypes          ISI             1234       0.2   \n",
      "3        3  17celltypes          ISI             1234       0.2   \n",
      "4        4  17celltypes          ISI             1234       0.2   \n",
      "..     ...          ...          ...              ...       ...   \n",
      "7     1027  17celltypes          ISI             1234       0.2   \n",
      "8     1028  17celltypes          ISI             1234       0.2   \n",
      "9     1029  17celltypes          ISI             1234       0.2   \n",
      "10    1030  17celltypes          ISI             1234       0.2   \n",
      "11    1031  17celltypes          ISI             1234       0.2   \n",
      "\n",
      "    isi_dist_bins_start  isi_dist_bins_stop  isi_dist_bins_step  \\\n",
      "0                     0               0.401             0.00050   \n",
      "1                     0               0.401             0.00050   \n",
      "2                     0               0.401             0.00050   \n",
      "3                     0               0.401             0.00050   \n",
      "4                     0               0.401             0.00050   \n",
      "..                  ...                 ...                 ...   \n",
      "7                     0               0.401             0.00025   \n",
      "8                     0               0.401             0.00025   \n",
      "9                     0               0.401             0.00025   \n",
      "10                    0               0.401             0.00025   \n",
      "11                    0               0.401             0.00025   \n",
      "\n",
      "    fr_dist_bins_start  fr_dist_bins_stop  fr_dist_bins_step      lr  \\\n",
      "0                    0                 51                  1  0.0001   \n",
      "1                    0                 51                  1  0.0001   \n",
      "2                    0                 51                  1  0.0001   \n",
      "3                    0                 51                  1  0.0010   \n",
      "4                    0                 51                  1  0.0010   \n",
      "..                 ...                ...                ...     ...   \n",
      "7                    0                 21                  1  0.0010   \n",
      "8                    0                 21                  1  0.0010   \n",
      "9                    0                 21                  1  0.0010   \n",
      "10                   0                 21                  1  0.0010   \n",
      "11                   0                 21                  1  0.0010   \n",
      "\n",
      "                              n_hiddens  dropout_p  weight_decay  \n",
      "0                     600,300,150,75,38        NaN           NaN  \n",
      "1                 600,300,225,150,75,38        NaN           NaN  \n",
      "2   600,600,300,300,150,150,75,75,38,38        NaN           NaN  \n",
      "3                     600,300,150,75,38        NaN           NaN  \n",
      "4                 600,300,225,150,75,38        NaN           NaN  \n",
      "..                                  ...        ...           ...  \n",
      "7                1200,600,300,150,75,38        0.2      0.000010  \n",
      "8                1200,600,300,150,75,38        0.3      0.000010  \n",
      "9                1200,600,300,150,75,38        0.2      0.000001  \n",
      "10               1200,600,300,150,75,38        0.2      0.000010  \n",
      "11               1200,600,300,150,75,38        0.2      0.000100  \n",
      "\n",
      "[179 rows x 15 columns]\n"
     ]
    }
   ],
   "source": [
    "hp_grid_files = [x for x in listdir('.') if 'hp_grid' in x and '.csv' in x]\n",
    "hp_grid_df = pd.concat([pd.read_csv(x) for x in hp_grid_files]).sort_values(by='hp_idx')\n",
    "hp_grid_idxs = np.sort(np.hstack([df.hp_idx.to_numpy() for df in hp_grid_dfs]))\n",
    "hp_grid_f1_files = ['ISI_hp{}_f1s.csv'.format(str(x)) for x in hp_grid_idxs if 'ISI_hp{}_f1s.csv'.format(str(x)) in listdir('.')]\n",
    "found_hp_grid_idxs = [x for x in hp_grid_idxs if 'ISI_hp{}_f1s.csv'.format(str(x)) in listdir('.')]\n",
    "hp_grid_df = hp_grid_df[hp_grid_df['hp_idx'].isin(found_hp_grid_idxs)]\n",
    "hp_grid_f1s_df = [pd.read_csv(x) for x in hp_grid_f1_files]\n",
    "hp_grid_train_max_f1s = [np.max(df.train_acc.to_numpy()) for df in hp_grid_f1s_df]\n",
    "hp_grid_test_max_f1s = [np.max(df.test_acc.to_numpy()) for df in hp_grid_f1s_df]\n",
    "hp_grid_val_max_f1s = [np.max(df.val_acc.to_numpy()) for df in hp_grid_f1s_df]\n"
   ]
  },
  {
   "cell_type": "code",
   "execution_count": null,
   "metadata": {},
   "outputs": [],
   "source": [
    "ISI_hp15_f1s.csv"
   ]
  }
 ],
 "metadata": {
  "kernelspec": {
   "display_name": "Python 3",
   "language": "python",
   "name": "python3"
  },
  "language_info": {
   "codemirror_mode": {
    "name": "ipython",
    "version": 3
   },
   "file_extension": ".py",
   "mimetype": "text/x-python",
   "name": "python",
   "nbconvert_exporter": "python",
   "pygments_lexer": "ipython3",
   "version": "3.8.5"
  }
 },
 "nbformat": 4,
 "nbformat_minor": 4
}
